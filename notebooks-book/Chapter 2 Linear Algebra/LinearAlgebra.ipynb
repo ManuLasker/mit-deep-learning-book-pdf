{
 "cells": [
  {
   "cell_type": "markdown",
   "metadata": {},
   "source": [
    "# Linear Algebra Concepts"
   ]
  },
  {
   "cell_type": "markdown",
   "metadata": {},
   "source": [
    "## Scalars, vectors, matrices"
   ]
  },
  {
   "cell_type": "code",
   "execution_count": 1,
   "metadata": {},
   "outputs": [],
   "source": [
    "import torch"
   ]
  },
  {
   "cell_type": "code",
   "execution_count": 2,
   "metadata": {},
   "outputs": [],
   "source": [
    "scalar = torch.tensor(2)"
   ]
  },
  {
   "cell_type": "code",
   "execution_count": 3,
   "metadata": {},
   "outputs": [
    {
     "data": {
      "text/plain": [
       "tensor(2)"
      ]
     },
     "execution_count": 3,
     "metadata": {},
     "output_type": "execute_result"
    }
   ],
   "source": [
    "scalar"
   ]
  },
  {
   "cell_type": "code",
   "execution_count": 4,
   "metadata": {},
   "outputs": [],
   "source": [
    "vector = torch.tensor([1,2,3])"
   ]
  },
  {
   "cell_type": "code",
   "execution_count": 5,
   "metadata": {},
   "outputs": [
    {
     "data": {
      "text/plain": [
       "tensor([1, 2, 3])"
      ]
     },
     "execution_count": 5,
     "metadata": {},
     "output_type": "execute_result"
    }
   ],
   "source": [
    "vector"
   ]
  },
  {
   "cell_type": "code",
   "execution_count": 6,
   "metadata": {},
   "outputs": [],
   "source": [
    "matrix = torch.tensor([[1,2,3],[4,5,6]])"
   ]
  },
  {
   "cell_type": "code",
   "execution_count": 7,
   "metadata": {},
   "outputs": [
    {
     "data": {
      "text/plain": [
       "tensor([[1, 2, 3],\n",
       "        [4, 5, 6]])"
      ]
     },
     "execution_count": 7,
     "metadata": {},
     "output_type": "execute_result"
    }
   ],
   "source": [
    "matrix"
   ]
  },
  {
   "cell_type": "code",
   "execution_count": 8,
   "metadata": {},
   "outputs": [],
   "source": [
    "tensors = torch.arange(45).view(-1,3,5)"
   ]
  },
  {
   "cell_type": "code",
   "execution_count": 9,
   "metadata": {},
   "outputs": [
    {
     "data": {
      "text/plain": [
       "tensor([[[ 0,  1,  2,  3,  4],\n",
       "         [ 5,  6,  7,  8,  9],\n",
       "         [10, 11, 12, 13, 14]],\n",
       "\n",
       "        [[15, 16, 17, 18, 19],\n",
       "         [20, 21, 22, 23, 24],\n",
       "         [25, 26, 27, 28, 29]],\n",
       "\n",
       "        [[30, 31, 32, 33, 34],\n",
       "         [35, 36, 37, 38, 39],\n",
       "         [40, 41, 42, 43, 44]]])"
      ]
     },
     "execution_count": 9,
     "metadata": {},
     "output_type": "execute_result"
    }
   ],
   "source": [
    "tensors"
   ]
  },
  {
   "cell_type": "markdown",
   "metadata": {},
   "source": [
    "## Operations on matrix"
   ]
  },
  {
   "cell_type": "code",
   "execution_count": 10,
   "metadata": {},
   "outputs": [
    {
     "data": {
      "text/plain": [
       "(tensor([[1, 4],\n",
       "         [2, 5],\n",
       "         [3, 6]]),\n",
       " tensor([[1, 2, 3],\n",
       "         [4, 5, 6]]))"
      ]
     },
     "execution_count": 10,
     "metadata": {},
     "output_type": "execute_result"
    }
   ],
   "source": [
    "matrix.T, matrix # Tranpose a matrx"
   ]
  },
  {
   "cell_type": "code",
   "execution_count": 11,
   "metadata": {},
   "outputs": [
    {
     "data": {
      "text/plain": [
       "tensor([[14, 32],\n",
       "        [32, 77]])"
      ]
     },
     "execution_count": 11,
     "metadata": {},
     "output_type": "execute_result"
    }
   ],
   "source": [
    "matrix.mm(matrix.T) # Matrix multiplications"
   ]
  },
  {
   "cell_type": "code",
   "execution_count": 12,
   "metadata": {},
   "outputs": [
    {
     "data": {
      "text/plain": [
       "tensor([[1, 2, 3],\n",
       "        [4, 5, 6]])"
      ]
     },
     "execution_count": 12,
     "metadata": {},
     "output_type": "execute_result"
    }
   ],
   "source": [
    "matrix"
   ]
  },
  {
   "cell_type": "code",
   "execution_count": 13,
   "metadata": {},
   "outputs": [
    {
     "data": {
      "text/plain": [
       "tensor([[2, 4, 6],\n",
       "        [5, 7, 9]])"
      ]
     },
     "execution_count": 13,
     "metadata": {},
     "output_type": "execute_result"
    }
   ],
   "source": [
    "matrix + torch.tensor([[1,2,3]]) #Sum broadcasting"
   ]
  },
  {
   "cell_type": "code",
   "execution_count": 14,
   "metadata": {},
   "outputs": [
    {
     "data": {
      "text/plain": [
       "tensor([[2, 3, 4],\n",
       "        [6, 7, 8]])"
      ]
     },
     "execution_count": 14,
     "metadata": {},
     "output_type": "execute_result"
    }
   ],
   "source": [
    "matrix + torch.tensor([[1],[2]]) # Sum broadcasting"
   ]
  },
  {
   "cell_type": "code",
   "execution_count": 15,
   "metadata": {},
   "outputs": [
    {
     "data": {
      "text/plain": [
       "tensor([[ 1,  4, 27]])"
      ]
     },
     "execution_count": 15,
     "metadata": {},
     "output_type": "execute_result"
    }
   ],
   "source": [
    "torch.tensor([[1,2,3]])**torch.tensor([1,2,3])"
   ]
  },
  {
   "cell_type": "code",
   "execution_count": 16,
   "metadata": {},
   "outputs": [
    {
     "data": {
      "text/plain": [
       "tensor([[1., 0., 0.],\n",
       "        [0., 1., 0.],\n",
       "        [0., 0., 1.]])"
      ]
     },
     "execution_count": 16,
     "metadata": {},
     "output_type": "execute_result"
    }
   ],
   "source": [
    "torch.eye(3) # Identity matrix"
   ]
  },
  {
   "cell_type": "markdown",
   "metadata": {},
   "source": [
    "## Inverse matrix"
   ]
  },
  {
   "cell_type": "code",
   "execution_count": 17,
   "metadata": {},
   "outputs": [
    {
     "data": {
      "text/plain": [
       "tensor([[3., 0., 0.],\n",
       "        [0., 3., 0.],\n",
       "        [0., 0., 3.]])"
      ]
     },
     "execution_count": 17,
     "metadata": {},
     "output_type": "execute_result"
    }
   ],
   "source": [
    "matrix = torch.eye(3, dtype=torch.float)*3\n",
    "matrix"
   ]
  },
  {
   "cell_type": "code",
   "execution_count": 18,
   "metadata": {},
   "outputs": [
    {
     "data": {
      "text/plain": [
       "tensor([[0.3333, 0.0000, -0.0000],\n",
       "        [0.0000, 0.3333, -0.0000],\n",
       "        [0.0000, 0.0000, 0.3333]])"
      ]
     },
     "execution_count": 18,
     "metadata": {},
     "output_type": "execute_result"
    }
   ],
   "source": [
    "torch.inverse(matrix)"
   ]
  },
  {
   "cell_type": "code",
   "execution_count": 19,
   "metadata": {},
   "outputs": [
    {
     "data": {
      "text/plain": [
       "tensor([[1., 0., 0.],\n",
       "        [0., 1., 0.],\n",
       "        [0., 0., 1.]])"
      ]
     },
     "execution_count": 19,
     "metadata": {},
     "output_type": "execute_result"
    }
   ],
   "source": [
    "torch.inverse(matrix).mm(matrix)"
   ]
  },
  {
   "cell_type": "markdown",
   "metadata": {},
   "source": [
    "## Norm\n",
    "\n",
    "$$L_p -> ||x|| = (\\sum_i |x_i|^p)^\\frac{1}{p}$$"
   ]
  },
  {
   "cell_type": "code",
   "execution_count": 20,
   "metadata": {},
   "outputs": [
    {
     "data": {
      "text/plain": [
       "tensor(9.)"
      ]
     },
     "execution_count": 20,
     "metadata": {},
     "output_type": "execute_result"
    }
   ],
   "source": [
    "torch.norm(torch.arange(10, dtype=torch.float), p=float('inf'))"
   ]
  },
  {
   "cell_type": "code",
   "execution_count": 21,
   "metadata": {},
   "outputs": [
    {
     "data": {
      "text/plain": [
       "tensor(16.8819)"
      ]
     },
     "execution_count": 21,
     "metadata": {},
     "output_type": "execute_result"
    }
   ],
   "source": [
    "torch.norm(torch.arange(10, dtype=torch.float).view(5,2), p='fro') # Frobenious Norm"
   ]
  },
  {
   "cell_type": "code",
   "execution_count": 22,
   "metadata": {},
   "outputs": [],
   "source": [
    "x = torch.arange(10, dtype=torch.float)*2+3\n",
    "y = torch.arange(10, dtype=torch.float)*1/2+1"
   ]
  },
  {
   "cell_type": "code",
   "execution_count": 23,
   "metadata": {},
   "outputs": [
    {
     "data": {
      "text/plain": [
       "tensor(472.5000)"
      ]
     },
     "execution_count": 23,
     "metadata": {},
     "output_type": "execute_result"
    }
   ],
   "source": [
    "x.dot(y)"
   ]
  },
  {
   "cell_type": "markdown",
   "metadata": {},
   "source": [
    "## Special Kind of matrices"
   ]
  },
  {
   "cell_type": "markdown",
   "metadata": {},
   "source": [
    "### Diagonal matrices"
   ]
  },
  {
   "cell_type": "code",
   "execution_count": 24,
   "metadata": {},
   "outputs": [
    {
     "data": {
      "text/plain": [
       "tensor([[10.,  0.],\n",
       "        [ 0.,  4.]])"
      ]
     },
     "execution_count": 24,
     "metadata": {},
     "output_type": "execute_result"
    }
   ],
   "source": [
    "# Diagonal matrices\n",
    "torch.diag(torch.tensor([10.0, 4.0]))"
   ]
  },
  {
   "cell_type": "code",
   "execution_count": 25,
   "metadata": {},
   "outputs": [
    {
     "data": {
      "text/plain": [
       "tensor([ 1,  4,  9, 16])"
      ]
     },
     "execution_count": 25,
     "metadata": {},
     "output_type": "execute_result"
    }
   ],
   "source": [
    "torch.diag(torch.arange(4) + 1).mv(torch.tensor([1,2,3,4]))"
   ]
  },
  {
   "cell_type": "code",
   "execution_count": 26,
   "metadata": {},
   "outputs": [
    {
     "data": {
      "text/plain": [
       "tensor([[1, 0, 0, 0],\n",
       "        [0, 2, 0, 0],\n",
       "        [0, 0, 3, 0],\n",
       "        [0, 0, 0, 4]])"
      ]
     },
     "execution_count": 26,
     "metadata": {},
     "output_type": "execute_result"
    }
   ],
   "source": [
    "torch.diag(torch.arange(4) + 1)"
   ]
  },
  {
   "cell_type": "code",
   "execution_count": 27,
   "metadata": {},
   "outputs": [
    {
     "data": {
      "text/plain": [
       "tensor([[1.0000, 0.0000, 0.0000, -0.0000],\n",
       "        [0.0000, 0.5000, 0.0000, -0.0000],\n",
       "        [0.0000, 0.0000, 0.3333, -0.0000],\n",
       "        [0.0000, 0.0000, 0.0000, 0.2500]])"
      ]
     },
     "execution_count": 27,
     "metadata": {},
     "output_type": "execute_result"
    }
   ],
   "source": [
    "torch.inverse(torch.diag(torch.arange(4, dtype=torch.float) + 1))"
   ]
  },
  {
   "cell_type": "code",
   "execution_count": 28,
   "metadata": {},
   "outputs": [],
   "source": [
    "# Rectangular diagonal matrices\n",
    "diag = torch.diag(torch.arange(4) + 1)"
   ]
  },
  {
   "cell_type": "code",
   "execution_count": 29,
   "metadata": {},
   "outputs": [
    {
     "data": {
      "text/plain": [
       "tensor([[1, 0, 0, 0],\n",
       "        [0, 2, 0, 0],\n",
       "        [0, 0, 3, 0],\n",
       "        [0, 0, 0, 4]])"
      ]
     },
     "execution_count": 29,
     "metadata": {},
     "output_type": "execute_result"
    }
   ],
   "source": [
    "diag"
   ]
  },
  {
   "cell_type": "code",
   "execution_count": 30,
   "metadata": {},
   "outputs": [],
   "source": [
    "rectdiag = torch.cat((diag, torch.zeros((1,4), dtype=torch.long)), dim=0)"
   ]
  },
  {
   "cell_type": "code",
   "execution_count": 31,
   "metadata": {},
   "outputs": [
    {
     "data": {
      "text/plain": [
       "tensor([[1, 0, 0, 0],\n",
       "        [0, 2, 0, 0],\n",
       "        [0, 0, 3, 0],\n",
       "        [0, 0, 0, 4],\n",
       "        [0, 0, 0, 0]])"
      ]
     },
     "execution_count": 31,
     "metadata": {},
     "output_type": "execute_result"
    }
   ],
   "source": [
    "rectdiag"
   ]
  },
  {
   "cell_type": "code",
   "execution_count": 32,
   "metadata": {},
   "outputs": [
    {
     "data": {
      "text/plain": [
       "(tensor([ 1,  4,  9, 16,  0]), tensor([1, 2, 3, 4]))"
      ]
     },
     "execution_count": 32,
     "metadata": {},
     "output_type": "execute_result"
    }
   ],
   "source": [
    "rectdiag.mv(torch.arange(4)+1), torch.arange(4) + 1"
   ]
  },
  {
   "cell_type": "code",
   "execution_count": 33,
   "metadata": {},
   "outputs": [],
   "source": [
    "rectdiag = torch.cat((diag, torch.zeros((4,1), dtype=torch.long)), dim=1)"
   ]
  },
  {
   "cell_type": "code",
   "execution_count": 34,
   "metadata": {},
   "outputs": [
    {
     "data": {
      "text/plain": [
       "(tensor([[1, 0, 0, 0, 0],\n",
       "         [0, 2, 0, 0, 0],\n",
       "         [0, 0, 3, 0, 0],\n",
       "         [0, 0, 0, 4, 0]]),\n",
       " tensor([1, 2, 3, 4, 5]))"
      ]
     },
     "execution_count": 34,
     "metadata": {},
     "output_type": "execute_result"
    }
   ],
   "source": [
    "rectdiag, torch.arange(5) + 1"
   ]
  },
  {
   "cell_type": "code",
   "execution_count": 35,
   "metadata": {},
   "outputs": [
    {
     "data": {
      "text/plain": [
       "tensor([ 1,  4,  9, 16])"
      ]
     },
     "execution_count": 35,
     "metadata": {},
     "output_type": "execute_result"
    }
   ],
   "source": [
    "rectdiag.mv(torch.arange(5)+1)"
   ]
  },
  {
   "cell_type": "markdown",
   "metadata": {},
   "source": [
    "### Symmetric matrices"
   ]
  },
  {
   "cell_type": "code",
   "execution_count": 36,
   "metadata": {},
   "outputs": [],
   "source": [
    "A = torch.diag(torch.arange(4) + 1)"
   ]
  },
  {
   "cell_type": "code",
   "execution_count": 37,
   "metadata": {},
   "outputs": [
    {
     "data": {
      "text/plain": [
       "tensor([[True, True, True, True],\n",
       "        [True, True, True, True],\n",
       "        [True, True, True, True],\n",
       "        [True, True, True, True]])"
      ]
     },
     "execution_count": 37,
     "metadata": {},
     "output_type": "execute_result"
    }
   ],
   "source": [
    "A == A.T"
   ]
  },
  {
   "cell_type": "markdown",
   "metadata": {},
   "source": [
    "### Unit Vector"
   ]
  },
  {
   "cell_type": "code",
   "execution_count": 38,
   "metadata": {},
   "outputs": [
    {
     "data": {
      "text/plain": [
       "(tensor(1.0000), tensor([0.1826, 0.3651, 0.5477, 0.7303]))"
      ]
     },
     "execution_count": 38,
     "metadata": {},
     "output_type": "execute_result"
    }
   ],
   "source": [
    "x = torch.arange(4, dtype=torch.float) + 1\n",
    "x_u = x/x.norm()\n",
    "x_u.norm(), x_u"
   ]
  },
  {
   "cell_type": "markdown",
   "metadata": {},
   "source": [
    "### Eigen descomposition"
   ]
  },
  {
   "cell_type": "code",
   "execution_count": 39,
   "metadata": {},
   "outputs": [],
   "source": [
    "%matplotlib inline\n",
    "import matplotlib.pyplot as plt"
   ]
  },
  {
   "cell_type": "code",
   "execution_count": 40,
   "metadata": {},
   "outputs": [],
   "source": [
    "matrix = torch.eye(2, dtype=torch.float)*3"
   ]
  },
  {
   "cell_type": "code",
   "execution_count": 41,
   "metadata": {},
   "outputs": [
    {
     "data": {
      "text/plain": [
       "torch.return_types.eig(\n",
       "eigenvalues=tensor([[3., 0.],\n",
       "        [3., 0.]]),\n",
       "eigenvectors=tensor([[1., 0.],\n",
       "        [0., 1.]]))"
      ]
     },
     "execution_count": 41,
     "metadata": {},
     "output_type": "execute_result"
    }
   ],
   "source": [
    "torch.eig(matrix, eigenvectors=True)"
   ]
  },
  {
   "cell_type": "code",
   "execution_count": 42,
   "metadata": {},
   "outputs": [
    {
     "data": {
      "text/plain": [
       "tensor([[1., 0.],\n",
       "        [0., 1.]])"
      ]
     },
     "execution_count": 42,
     "metadata": {},
     "output_type": "execute_result"
    }
   ],
   "source": [
    "eigen_matrix = torch.eig(matrix, eigenvectors=True).eigenvectors\n",
    "eigen_matrix"
   ]
  },
  {
   "cell_type": "code",
   "execution_count": 43,
   "metadata": {},
   "outputs": [
    {
     "data": {
      "text/plain": [
       "tensor([True, True])"
      ]
     },
     "execution_count": 43,
     "metadata": {},
     "output_type": "execute_result"
    }
   ],
   "source": [
    "matrix.mv(torch.tensor([1,0.0])) == 3*torch.tensor([1,0.0]) # Eigen vector of matrix"
   ]
  },
  {
   "cell_type": "code",
   "execution_count": 44,
   "metadata": {},
   "outputs": [
    {
     "data": {
      "image/png": "[encoded data removed]",
      "text/plain": [
       "<Figure size 432x288 with 1 Axes>"
      ]
     },
     "metadata": {
      "needs_background": "light"
     },
     "output_type": "display_data"
    }
   ],
   "source": [
    "plt.scatter(eigen_matrix[:,0], eigen_matrix[:,1])\n",
    "plt.show()"
   ]
  },
  {
   "cell_type": "code",
   "execution_count": 45,
   "metadata": {},
   "outputs": [
    {
     "data": {
      "image/png": "[encoded data removed]",
      "text/plain": [
       "<Figure size 432x288 with 1 Axes>"
      ]
     },
     "metadata": {
      "needs_background": "light"
     },
     "output_type": "display_data"
    }
   ],
   "source": [
    "plt.scatter(matrix.mv(eigen_matrix[:,0]), matrix.mv(eigen_matrix[:,1]))\n",
    "plt.show()"
   ]
  },
  {
   "cell_type": "code",
   "execution_count": 46,
   "metadata": {},
   "outputs": [
    {
     "data": {
      "text/plain": [
       "tensor([[True, True],\n",
       "        [True, True]])"
      ]
     },
     "execution_count": 46,
     "metadata": {},
     "output_type": "execute_result"
    }
   ],
   "source": [
    "eigen_matrix.mm(torch.diag(torch.tensor([3.0,3]))).mm(eigen_matrix.T) == matrix"
   ]
  },
  {
   "cell_type": "code",
   "execution_count": 47,
   "metadata": {},
   "outputs": [
    {
     "data": {
      "text/plain": [
       "torch.return_types.svd(\n",
       "U=tensor([[1., 0.],\n",
       "        [0., 1.]]),\n",
       "S=tensor([3., 3.]),\n",
       "V=tensor([[1., 0.],\n",
       "        [0., 1.]]))"
      ]
     },
     "execution_count": 47,
     "metadata": {},
     "output_type": "execute_result"
    }
   ],
   "source": [
    "torch.svd(matrix) # Eigenvalue decomposition < generalize singular value decomposition"
   ]
  },
  {
   "cell_type": "code",
   "execution_count": 52,
   "metadata": {},
   "outputs": [],
   "source": [
    "matrix = torch.arange(10, dtype=torch.float).view(2,-1)\n",
    "U, S, V = torch.svd(matrix)"
   ]
  },
  {
   "cell_type": "code",
   "execution_count": 53,
   "metadata": {},
   "outputs": [
    {
     "data": {
      "text/plain": [
       "(torch.Size([2, 2]), torch.Size([2, 2]), torch.Size([5, 2]))"
      ]
     },
     "execution_count": 53,
     "metadata": {},
     "output_type": "execute_result"
    }
   ],
   "source": [
    "U.shape, torch.diag(S).shape, V.shape"
   ]
  },
  {
   "cell_type": "markdown",
   "metadata": {},
   "source": [
    "## The moon penrose pseudo inverse"
   ]
  },
  {
   "cell_type": "markdown",
   "metadata": {},
   "source": [
    "$$A^{+} = \\lim_{\\alpha -> 0}(A^{T}A + \\alpha I)^{-1}A^{T}$$\n",
    "\n",
    "Algorithms that calculate the pseudo inverse does not use the previous definition, but the following formulae instead:\n",
    "\n",
    "Given the svd for a matrix $A$, $A = UDV^{T}$\n",
    "$$A^{+} = VD^{+}U^{T}$$"
   ]
  },
  {
   "cell_type": "code",
   "execution_count": 87,
   "metadata": {},
   "outputs": [],
   "source": [
    "A = (torch.arange(10, dtype=torch.float) + 1).reshape(5, 2)"
   ]
  },
  {
   "cell_type": "code",
   "execution_count": 95,
   "metadata": {},
   "outputs": [],
   "source": [
    "U, S, V = torch.svd(A) # using the sigular value descomposition"
   ]
  },
  {
   "cell_type": "code",
   "execution_count": 89,
   "metadata": {},
   "outputs": [],
   "source": [
    "D = torch.diag(S)"
   ]
  },
  {
   "cell_type": "code",
   "execution_count": 90,
   "metadata": {},
   "outputs": [],
   "source": [
    "def get_D_plus(D):\n",
    "    D_plus = (1/D).T\n",
    "    D_plus[D_plus == float('inf')] = 0\n",
    "    return D_plus"
   ]
  },
  {
   "cell_type": "code",
   "execution_count": 91,
   "metadata": {},
   "outputs": [],
   "source": [
    "D_plus = get_D_plus(D)"
   ]
  },
  {
   "cell_type": "code",
   "execution_count": 92,
   "metadata": {},
   "outputs": [],
   "source": [
    "A_plus = V.mm(D_plus).mm(U.T)"
   ]
  },
  {
   "cell_type": "code",
   "execution_count": 93,
   "metadata": {},
   "outputs": [
    {
     "data": {
      "text/plain": [
       "tensor([[-0.8000, -0.5000, -0.2000,  0.1000,  0.4000],\n",
       "        [ 0.7000,  0.4500,  0.2000, -0.0500, -0.3000]])"
      ]
     },
     "execution_count": 93,
     "metadata": {},
     "output_type": "execute_result"
    }
   ],
   "source": [
    "torch.pinverse(A)"
   ]
  },
  {
   "cell_type": "code",
   "execution_count": 94,
   "metadata": {},
   "outputs": [
    {
     "data": {
      "text/plain": [
       "tensor([[-0.8000, -0.5000, -0.2000,  0.1000,  0.4000],\n",
       "        [ 0.7000,  0.4500,  0.2000, -0.0500, -0.3000]])"
      ]
     },
     "execution_count": 94,
     "metadata": {},
     "output_type": "execute_result"
    }
   ],
   "source": [
    "A_plus"
   ]
  },
  {
   "cell_type": "markdown",
   "metadata": {},
   "source": [
    "## the trace operator\n",
    "\n",
    "the trace operators give the sum of all the diagonal entries of a matrix $A$:\n",
    "\n",
    "$$Tr(A) = \\sum_i A_{i,i}$$"
   ]
  },
  {
   "cell_type": "code",
   "execution_count": 97,
   "metadata": {},
   "outputs": [
    {
     "data": {
      "text/plain": [
       "(tensor(5.), tensor(5.))"
      ]
     },
     "execution_count": 97,
     "metadata": {},
     "output_type": "execute_result"
    }
   ],
   "source": [
    "torch.trace(A), torch.diag(A).sum()"
   ]
  },
  {
   "cell_type": "markdown",
   "metadata": {},
   "source": [
    "### Frobenious norm using trace operator"
   ]
  },
  {
   "cell_type": "code",
   "execution_count": 101,
   "metadata": {},
   "outputs": [
    {
     "data": {
      "text/plain": [
       "(tensor(19.6214), tensor(19.6214))"
      ]
     },
     "execution_count": 101,
     "metadata": {},
     "output_type": "execute_result"
    }
   ],
   "source": [
    "torch.trace(A.mm(A.T)).sqrt(), A.norm(p='fro')"
   ]
  },
  {
   "cell_type": "markdown",
   "metadata": {},
   "source": [
    "## The determinant\n",
    "\n",
    "The determinant of matrix denoted $det(A)$ is a function that mapping matrices to real scalars. The determinant is equal to the product of all the eigenvalues of the matrix. The absolute value of the determinant can be thought of as a measure of how much multiplication byt the matrix expands or contracts the space. If the determinant is zero, the space is contracted completely along at least one dimension, causing to lose all its volumne. If the determinant is 1 then the transformation preserve its volume."
   ]
  },
  {
   "cell_type": "code",
   "execution_count": 103,
   "metadata": {},
   "outputs": [
    {
     "data": {
      "text/plain": [
       "tensor(-2.0000)"
      ]
     },
     "execution_count": 103,
     "metadata": {},
     "output_type": "execute_result"
    }
   ],
   "source": [
    "torch.det((torch.arange(4, dtype=torch.float) + 1).view(2,2))"
   ]
  },
  {
   "cell_type": "markdown",
   "metadata": {},
   "source": [
    "## Principal Component Analysis Algorithm\n"
   ]
  },
  {
   "cell_type": "code",
   "execution_count": 404,
   "metadata": {
    "scrolled": true
   },
   "outputs": [
    {
     "name": "stdout",
     "output_type": "stream",
     "text": [
      "it: 0 loss: 24.604120\n",
      "it: 100 loss: 8.252946\n",
      "it: 200 loss: 1.937311\n",
      "it: 300 loss: 1.851042\n",
      "it: 400 loss: 1.816005\n",
      "it: 500 loss: 1.784017\n",
      "it: 600 loss: 1.754767\n",
      "it: 700 loss: 1.727969\n",
      "it: 800 loss: 1.703364\n",
      "it: 900 loss: 1.680716\n",
      "it: 1000 loss: 1.659816\n",
      "it: 1100 loss: 1.640472\n",
      "it: 1200 loss: 1.622513\n",
      "it: 1300 loss: 1.605783\n",
      "it: 1400 loss: 1.590147\n",
      "it: 1500 loss: 1.575480\n",
      "it: 1600 loss: 1.561670\n",
      "it: 1700 loss: 1.548617\n",
      "it: 1800 loss: 1.536232\n",
      "it: 1900 loss: 1.524436\n",
      "it: 2000 loss: 1.513156\n",
      "it: 2100 loss: 1.502326\n",
      "it: 2200 loss: 1.491887\n",
      "it: 2300 loss: 1.481788\n",
      "it: 2400 loss: 1.471980\n",
      "it: 2500 loss: 1.462418\n",
      "it: 2600 loss: 1.453067\n",
      "it: 2700 loss: 1.443887\n",
      "it: 2800 loss: 1.434847\n",
      "it: 2900 loss: 1.425916\n",
      "it: 3000 loss: 1.417068\n",
      "it: 3100 loss: 1.408276\n",
      "it: 3200 loss: 1.399517\n",
      "it: 3300 loss: 1.390770\n",
      "it: 3400 loss: 1.382014\n",
      "it: 3500 loss: 1.373229\n",
      "it: 3600 loss: 1.364398\n",
      "it: 3700 loss: 1.355506\n",
      "it: 3800 loss: 1.346536\n",
      "it: 3900 loss: 1.337474\n",
      "it: 4000 loss: 1.328305\n",
      "it: 4100 loss: 1.319016\n",
      "it: 4200 loss: 1.309596\n",
      "it: 4300 loss: 1.300030\n",
      "it: 4400 loss: 1.290309\n",
      "it: 4500 loss: 1.280420\n",
      "it: 4600 loss: 1.270353\n",
      "it: 4700 loss: 1.260098\n",
      "it: 4800 loss: 1.249645\n",
      "it: 4900 loss: 1.238983\n",
      "it: 5000 loss: 1.228104\n",
      "it: 5100 loss: 1.216999\n",
      "it: 5200 loss: 1.205659\n",
      "it: 5300 loss: 1.194075\n",
      "it: 5400 loss: 1.182239\n",
      "it: 5500 loss: 1.170144\n",
      "it: 5600 loss: 1.157781\n",
      "it: 5700 loss: 1.145142\n",
      "it: 5800 loss: 1.132222\n",
      "it: 5900 loss: 1.119012\n",
      "it: 6000 loss: 1.105506\n",
      "it: 6100 loss: 1.091699\n",
      "it: 6200 loss: 1.077582\n",
      "it: 6300 loss: 1.063153\n",
      "it: 6400 loss: 1.048403\n",
      "it: 6500 loss: 1.033329\n",
      "it: 6600 loss: 1.017927\n",
      "it: 6700 loss: 1.002190\n",
      "it: 6800 loss: 0.986117\n",
      "it: 6900 loss: 0.969702\n",
      "it: 7000 loss: 0.952944\n",
      "it: 7100 loss: 0.935839\n",
      "it: 7200 loss: 0.918386\n",
      "it: 7300 loss: 0.900582\n",
      "it: 7400 loss: 0.882428\n",
      "it: 7500 loss: 0.863922\n",
      "it: 7600 loss: 0.845064\n",
      "it: 7700 loss: 0.825856\n",
      "it: 7800 loss: 0.806297\n",
      "it: 7900 loss: 0.786391\n",
      "it: 8000 loss: 0.766139\n",
      "it: 8100 loss: 0.745545\n",
      "it: 8200 loss: 0.724613\n",
      "it: 8300 loss: 0.703346\n",
      "it: 8400 loss: 0.681751\n",
      "it: 8500 loss: 0.659832\n",
      "it: 8600 loss: 0.637597\n",
      "it: 8700 loss: 0.615051\n",
      "it: 8800 loss: 0.592203\n",
      "it: 8900 loss: 0.569061\n",
      "it: 9000 loss: 0.545633\n",
      "it: 9100 loss: 0.521930\n",
      "it: 9200 loss: 0.497960\n",
      "it: 9300 loss: 0.473734\n",
      "it: 9400 loss: 0.449264\n",
      "it: 9500 loss: 0.424561\n",
      "it: 9600 loss: 0.399635\n",
      "it: 9700 loss: 0.374500\n",
      "it: 9800 loss: 0.349168\n",
      "it: 9900 loss: 0.323651\n"
     ]
    }
   ],
   "source": [
    "lr = 0.0001\n",
    "X = torch.arange(15, dtype=torch.float).view(-1, 3) \n",
    "m, n = X.shape\n",
    "l = 2\n",
    "\n",
    "# Matrix code, reconstruction and decode\n",
    "D = torch.randn((n, l), requires_grad=True)\n",
    "loss_min = float('inf')\n",
    "\n",
    "losses = []\n",
    "for it in range(10000):\n",
    "    # Solve this \n",
    "    diff = X - (X.mm(D)).mm(D.T)\n",
    "    loss = torch.norm(diff, p='fro')\n",
    "    loss.backward()\n",
    "    if it%100 == 0:\n",
    "        print(\"it: %i loss: %f\" %(it, loss.item()))\n",
    "    # Append loss\n",
    "    losses.append(loss.item())\n",
    "    with torch.no_grad():\n",
    "        if loss < loss_min:\n",
    "            loss_min = loss.item()\n",
    "            best_D = D.clone()\n",
    "        D -= lr*D.grad\n",
    "        D.grad.zero_()\n",
    "D = best_D"
   ]
  },
  {
   "cell_type": "code",
   "execution_count": 405,
   "metadata": {},
   "outputs": [
    {
     "data": {
      "image/png": "[encoded data removed]",
      "text/plain": [
       "<Figure size 432x288 with 1 Axes>"
      ]
     },
     "metadata": {
      "needs_background": "light"
     },
     "output_type": "display_data"
    }
   ],
   "source": [
    "plt.plot(losses)\n",
    "plt.title('PCA algorithm convergence')\n",
    "plt.ylabel('Loss')\n",
    "plt.xlabel('Number of iteration')\n",
    "plt.show()"
   ]
  },
  {
   "cell_type": "markdown",
   "metadata": {},
   "source": [
    "### This matrix is our decode and encode matrix"
   ]
  },
  {
   "cell_type": "code",
   "execution_count": 406,
   "metadata": {},
   "outputs": [
    {
     "name": "stdout",
     "output_type": "stream",
     "text": [
      "X_code:\n",
      " tensor([[ 2.1786,  0.4491],\n",
      "        [ 5.4934,  4.4498],\n",
      "        [ 8.8082,  8.4505],\n",
      "        [12.1231, 12.4511],\n",
      "        [15.4379, 16.4518]])\n",
      "Original_X:\n",
      " tensor([[ 0.,  1.,  2.],\n",
      "        [ 3.,  4.,  5.],\n",
      "        [ 6.,  7.,  8.],\n",
      "        [ 9., 10., 11.],\n",
      "        [12., 13., 14.]])\n",
      "X_recons:\n",
      " tensor([[-0.0613,  1.1871,  1.8804],\n",
      "        [ 2.9602,  4.1214,  4.9224],\n",
      "        [ 5.9817,  7.0557,  7.9644],\n",
      "        [ 9.0033,  9.9901, 11.0064],\n",
      "        [12.0248, 12.9244, 14.0483]])\n"
     ]
    }
   ],
   "source": [
    "X_code = X.mm(D)\n",
    "print(\"X_code:\\n\", X_code) # X code to R^2 \n",
    "print(\"Original_X:\\n\", X) # Original X\n",
    "X_recons = (X.mm(D)).mm(D.T)\n",
    "print(\"X_recons:\\n\",X_recons)"
   ]
  },
  {
   "cell_type": "markdown",
   "metadata": {},
   "source": [
    "### PCA using singular value decomposition\n",
    "\n",
    "We can show that the best value of D are the eigenvalue decomposition for $X^{T}X$, let's see an example of this without using gradient descent"
   ]
  },
  {
   "cell_type": "code",
   "execution_count": 417,
   "metadata": {},
   "outputs": [],
   "source": [
    "U, S, V = torch.svd(X.T.mm(X))"
   ]
  },
  {
   "cell_type": "code",
   "execution_count": 418,
   "metadata": {},
   "outputs": [
    {
     "data": {
      "text/plain": [
       "(torch.Size([3, 3]), torch.Size([3]), torch.Size([3, 3]))"
      ]
     },
     "execution_count": 418,
     "metadata": {},
     "output_type": "execute_result"
    }
   ],
   "source": [
    "U.shape, S.shape, V.shape"
   ]
  },
  {
   "cell_type": "code",
   "execution_count": 421,
   "metadata": {},
   "outputs": [
    {
     "name": "stdout",
     "output_type": "stream",
     "text": [
      "X_code:\n",
      " tensor([[ -1.8463,  -1.2615],\n",
      "        [ -7.0235,  -0.8186],\n",
      "        [-12.2008,  -0.3758],\n",
      "        [-17.3780,   0.0670],\n",
      "        [-22.5553,   0.5098]])\n",
      "Original_X:\n",
      " tensor([[ 0.,  1.,  2.],\n",
      "        [ 3.,  4.,  5.],\n",
      "        [ 6.,  7.,  8.],\n",
      "        [ 9., 10., 11.],\n",
      "        [12., 13., 14.]])\n",
      "X_recons:\n",
      " tensor([[-3.6359e-06,  1.0000e+00,  2.0000e+00],\n",
      "        [ 3.0000e+00,  4.0000e+00,  5.0000e+00],\n",
      "        [ 6.0000e+00,  7.0000e+00,  8.0000e+00],\n",
      "        [ 9.0000e+00,  1.0000e+01,  1.1000e+01],\n",
      "        [ 1.2000e+01,  1.3000e+01,  1.4000e+01]])\n"
     ]
    }
   ],
   "source": [
    "X_code = X.mm(U[:,:2])\n",
    "print(\"X_code:\\n\", X_code) # X code to R^2 \n",
    "print(\"Original_X:\\n\", X) # Original X\n",
    "X_recons = X_code.mm(U[:,:2].T)\n",
    "print(\"X_recons:\\n\",X_recons)"
   ]
  }
 ],
 "metadata": {
  "kernelspec": {
   "display_name": "Python 3",
   "language": "python",
   "name": "python3"
  },
  "language_info": {
   "codemirror_mode": {
    "name": "ipython",
    "version": 3
   },
   "file_extension": ".py",
   "mimetype": "text/x-python",
   "name": "python",
   "nbconvert_exporter": "python",
   "pygments_lexer": "ipython3",
   "version": "3.7.7"
  },
  "toc-autonumbering": true,
  "toc-showmarkdowntxt": false
 },
 "nbformat": 4,
 "nbformat_minor": 4
}
