{
 "cells": [
  {
   "cell_type": "markdown",
   "metadata": {},
   "source": [
    "# Linear Algebra Concepts\n",
    "\n",
    "Resources: <br/>\n",
    "The matrix cookbook (petersen and pedersen 2006) <br/>\n",
    "Shilov (1977)"
   ]
  },
  {
   "cell_type": "markdown",
   "metadata": {},
   "source": [
    "## Scalars, vectors, matrices"
   ]
  },
  {
   "cell_type": "code",
   "execution_count": 1,
   "metadata": {},
   "outputs": [],
   "source": [
    "import torch"
   ]
  },
  {
   "cell_type": "code",
   "execution_count": 2,
   "metadata": {},
   "outputs": [],
   "source": [
    "scalar = torch.tensor(2)"
   ]
  },
  {
   "cell_type": "code",
   "execution_count": 3,
   "metadata": {},
   "outputs": [
    {
     "data": {
      "text/plain": [
       "tensor(2)"
      ]
     },
     "execution_count": 3,
     "metadata": {},
     "output_type": "execute_result"
    }
   ],
   "source": [
    "scalar"
   ]
  },
  {
   "cell_type": "code",
   "execution_count": 4,
   "metadata": {},
   "outputs": [],
   "source": [
    "vector = torch.tensor([1,2,3])"
   ]
  },
  {
   "cell_type": "code",
   "execution_count": 5,
   "metadata": {},
   "outputs": [
    {
     "data": {
      "text/plain": [
       "tensor([1, 2, 3])"
      ]
     },
     "execution_count": 5,
     "metadata": {},
     "output_type": "execute_result"
    }
   ],
   "source": [
    "vector"
   ]
  },
  {
   "cell_type": "code",
   "execution_count": 6,
   "metadata": {},
   "outputs": [],
   "source": [
    "matrix = torch.tensor([[1,2,3],[4,5,6]])"
   ]
  },
  {
   "cell_type": "code",
   "execution_count": 7,
   "metadata": {},
   "outputs": [
    {
     "data": {
      "text/plain": [
       "tensor([[1, 2, 3],\n",
       "        [4, 5, 6]])"
      ]
     },
     "execution_count": 7,
     "metadata": {},
     "output_type": "execute_result"
    }
   ],
   "source": [
    "matrix"
   ]
  },
  {
   "cell_type": "code",
   "execution_count": 8,
   "metadata": {},
   "outputs": [],
   "source": [
    "tensors = torch.arange(45).view(-1,3,5)"
   ]
  },
  {
   "cell_type": "code",
   "execution_count": 9,
   "metadata": {},
   "outputs": [
    {
     "data": {
      "text/plain": [
       "tensor([[[ 0,  1,  2,  3,  4],\n",
       "         [ 5,  6,  7,  8,  9],\n",
       "         [10, 11, 12, 13, 14]],\n",
       "\n",
       "        [[15, 16, 17, 18, 19],\n",
       "         [20, 21, 22, 23, 24],\n",
       "         [25, 26, 27, 28, 29]],\n",
       "\n",
       "        [[30, 31, 32, 33, 34],\n",
       "         [35, 36, 37, 38, 39],\n",
       "         [40, 41, 42, 43, 44]]])"
      ]
     },
     "execution_count": 9,
     "metadata": {},
     "output_type": "execute_result"
    }
   ],
   "source": [
    "tensors"
   ]
  },
  {
   "cell_type": "markdown",
   "metadata": {},
   "source": [
    "## Operations on matrix"
   ]
  },
  {
   "cell_type": "code",
   "execution_count": 10,
   "metadata": {},
   "outputs": [
    {
     "data": {
      "text/plain": [
       "(tensor([[1, 4],\n",
       "         [2, 5],\n",
       "         [3, 6]]),\n",
       " tensor([[1, 2, 3],\n",
       "         [4, 5, 6]]))"
      ]
     },
     "execution_count": 10,
     "metadata": {},
     "output_type": "execute_result"
    }
   ],
   "source": [
    "matrix.T, matrix # Tranpose a matrx"
   ]
  },
  {
   "cell_type": "code",
   "execution_count": 11,
   "metadata": {},
   "outputs": [
    {
     "data": {
      "text/plain": [
       "tensor([[14, 32],\n",
       "        [32, 77]])"
      ]
     },
     "execution_count": 11,
     "metadata": {},
     "output_type": "execute_result"
    }
   ],
   "source": [
    "matrix.mm(matrix.T) # Matrix multiplications"
   ]
  },
  {
   "cell_type": "code",
   "execution_count": 12,
   "metadata": {},
   "outputs": [
    {
     "data": {
      "text/plain": [
       "tensor([[1, 2, 3],\n",
       "        [4, 5, 6]])"
      ]
     },
     "execution_count": 12,
     "metadata": {},
     "output_type": "execute_result"
    }
   ],
   "source": [
    "matrix"
   ]
  },
  {
   "cell_type": "code",
   "execution_count": 13,
   "metadata": {},
   "outputs": [
    {
     "data": {
      "text/plain": [
       "tensor([[2, 4, 6],\n",
       "        [5, 7, 9]])"
      ]
     },
     "execution_count": 13,
     "metadata": {},
     "output_type": "execute_result"
    }
   ],
   "source": [
    "matrix + torch.tensor([[1,2,3]]) #Sum broadcasting"
   ]
  },
  {
   "cell_type": "code",
   "execution_count": 14,
   "metadata": {},
   "outputs": [
    {
     "data": {
      "text/plain": [
       "tensor([[2, 3, 4],\n",
       "        [6, 7, 8]])"
      ]
     },
     "execution_count": 14,
     "metadata": {},
     "output_type": "execute_result"
    }
   ],
   "source": [
    "matrix + torch.tensor([[1],[2]]) # Sum broadcasting"
   ]
  },
  {
   "cell_type": "code",
   "execution_count": 15,
   "metadata": {},
   "outputs": [
    {
     "data": {
      "text/plain": [
       "tensor([[ 1,  4, 27]])"
      ]
     },
     "execution_count": 15,
     "metadata": {},
     "output_type": "execute_result"
    }
   ],
   "source": [
    "torch.tensor([[1,2,3]])**torch.tensor([1,2,3])"
   ]
  },
  {
   "cell_type": "code",
   "execution_count": 16,
   "metadata": {},
   "outputs": [
    {
     "data": {
      "text/plain": [
       "tensor([[1., 0., 0.],\n",
       "        [0., 1., 0.],\n",
       "        [0., 0., 1.]])"
      ]
     },
     "execution_count": 16,
     "metadata": {},
     "output_type": "execute_result"
    }
   ],
   "source": [
    "torch.eye(3) # Identity matrix"
   ]
  },
  {
   "cell_type": "markdown",
   "metadata": {},
   "source": [
    "## Inverse matrix"
   ]
  },
  {
   "cell_type": "code",
   "execution_count": 17,
   "metadata": {},
   "outputs": [
    {
     "data": {
      "text/plain": [
       "tensor([[3., 0., 0.],\n",
       "        [0., 3., 0.],\n",
       "        [0., 0., 3.]])"
      ]
     },
     "execution_count": 17,
     "metadata": {},
     "output_type": "execute_result"
    }
   ],
   "source": [
    "matrix = torch.eye(3, dtype=torch.float)*3\n",
    "matrix"
   ]
  },
  {
   "cell_type": "code",
   "execution_count": 18,
   "metadata": {},
   "outputs": [
    {
     "data": {
      "text/plain": [
       "tensor([[0.3333, 0.0000, -0.0000],\n",
       "        [0.0000, 0.3333, -0.0000],\n",
       "        [0.0000, 0.0000, 0.3333]])"
      ]
     },
     "execution_count": 18,
     "metadata": {},
     "output_type": "execute_result"
    }
   ],
   "source": [
    "torch.inverse(matrix)"
   ]
  },
  {
   "cell_type": "code",
   "execution_count": 19,
   "metadata": {},
   "outputs": [
    {
     "data": {
      "text/plain": [
       "tensor([[1., 0., 0.],\n",
       "        [0., 1., 0.],\n",
       "        [0., 0., 1.]])"
      ]
     },
     "execution_count": 19,
     "metadata": {},
     "output_type": "execute_result"
    }
   ],
   "source": [
    "torch.inverse(matrix).mm(matrix)"
   ]
  },
  {
   "cell_type": "markdown",
   "metadata": {},
   "source": [
    "## Norm\n",
    "\n",
    "$$L_p -> ||x|| = (\\sum_i |x_i|^p)^\\frac{1}{p}$$"
   ]
  },
  {
   "cell_type": "code",
   "execution_count": 20,
   "metadata": {},
   "outputs": [
    {
     "data": {
      "text/plain": [
       "tensor(9.)"
      ]
     },
     "execution_count": 20,
     "metadata": {},
     "output_type": "execute_result"
    }
   ],
   "source": [
    "torch.norm(torch.arange(10, dtype=torch.float), p=float('inf'))"
   ]
  },
  {
   "cell_type": "code",
   "execution_count": 21,
   "metadata": {},
   "outputs": [
    {
     "data": {
      "text/plain": [
       "tensor(16.8819)"
      ]
     },
     "execution_count": 21,
     "metadata": {},
     "output_type": "execute_result"
    }
   ],
   "source": [
    "torch.norm(torch.arange(10, dtype=torch.float).view(5,2), p='fro') # Frobenious Norm"
   ]
  },
  {
   "cell_type": "code",
   "execution_count": 22,
   "metadata": {},
   "outputs": [],
   "source": [
    "x = torch.arange(10, dtype=torch.float)*2+3\n",
    "y = torch.arange(10, dtype=torch.float)*1/2+1"
   ]
  },
  {
   "cell_type": "code",
   "execution_count": 23,
   "metadata": {},
   "outputs": [
    {
     "data": {
      "text/plain": [
       "tensor(472.5000)"
      ]
     },
     "execution_count": 23,
     "metadata": {},
     "output_type": "execute_result"
    }
   ],
   "source": [
    "x.dot(y)"
   ]
  },
  {
   "cell_type": "markdown",
   "metadata": {},
   "source": [
    "## Special Kind of matrices"
   ]
  },
  {
   "cell_type": "markdown",
   "metadata": {},
   "source": [
    "### Diagonal matrices"
   ]
  },
  {
   "cell_type": "code",
   "execution_count": 24,
   "metadata": {},
   "outputs": [
    {
     "data": {
      "text/plain": [
       "tensor([[10.,  0.],\n",
       "        [ 0.,  4.]])"
      ]
     },
     "execution_count": 24,
     "metadata": {},
     "output_type": "execute_result"
    }
   ],
   "source": [
    "# Diagonal matrices\n",
    "torch.diag(torch.tensor([10.0, 4.0]))"
   ]
  },
  {
   "cell_type": "code",
   "execution_count": 25,
   "metadata": {},
   "outputs": [
    {
     "data": {
      "text/plain": [
       "tensor([ 1,  4,  9, 16])"
      ]
     },
     "execution_count": 25,
     "metadata": {},
     "output_type": "execute_result"
    }
   ],
   "source": [
    "torch.diag(torch.arange(4) + 1).mv(torch.tensor([1,2,3,4]))"
   ]
  },
  {
   "cell_type": "code",
   "execution_count": 26,
   "metadata": {},
   "outputs": [
    {
     "data": {
      "text/plain": [
       "tensor([[1, 0, 0, 0],\n",
       "        [0, 2, 0, 0],\n",
       "        [0, 0, 3, 0],\n",
       "        [0, 0, 0, 4]])"
      ]
     },
     "execution_count": 26,
     "metadata": {},
     "output_type": "execute_result"
    }
   ],
   "source": [
    "torch.diag(torch.arange(4) + 1)"
   ]
  },
  {
   "cell_type": "code",
   "execution_count": 27,
   "metadata": {},
   "outputs": [
    {
     "data": {
      "text/plain": [
       "tensor([[1.0000, 0.0000, 0.0000, -0.0000],\n",
       "        [0.0000, 0.5000, 0.0000, -0.0000],\n",
       "        [0.0000, 0.0000, 0.3333, -0.0000],\n",
       "        [0.0000, 0.0000, 0.0000, 0.2500]])"
      ]
     },
     "execution_count": 27,
     "metadata": {},
     "output_type": "execute_result"
    }
   ],
   "source": [
    "torch.inverse(torch.diag(torch.arange(4, dtype=torch.float) + 1))"
   ]
  },
  {
   "cell_type": "code",
   "execution_count": 28,
   "metadata": {},
   "outputs": [],
   "source": [
    "# Rectangular diagonal matrices\n",
    "diag = torch.diag(torch.arange(4) + 1)"
   ]
  },
  {
   "cell_type": "code",
   "execution_count": 29,
   "metadata": {},
   "outputs": [
    {
     "data": {
      "text/plain": [
       "tensor([[1, 0, 0, 0],\n",
       "        [0, 2, 0, 0],\n",
       "        [0, 0, 3, 0],\n",
       "        [0, 0, 0, 4]])"
      ]
     },
     "execution_count": 29,
     "metadata": {},
     "output_type": "execute_result"
    }
   ],
   "source": [
    "diag"
   ]
  },
  {
   "cell_type": "code",
   "execution_count": 30,
   "metadata": {},
   "outputs": [],
   "source": [
    "rectdiag = torch.cat((diag, torch.zeros((1,4), dtype=torch.long)), dim=0)"
   ]
  },
  {
   "cell_type": "code",
   "execution_count": 31,
   "metadata": {},
   "outputs": [
    {
     "data": {
      "text/plain": [
       "tensor([[1, 0, 0, 0],\n",
       "        [0, 2, 0, 0],\n",
       "        [0, 0, 3, 0],\n",
       "        [0, 0, 0, 4],\n",
       "        [0, 0, 0, 0]])"
      ]
     },
     "execution_count": 31,
     "metadata": {},
     "output_type": "execute_result"
    }
   ],
   "source": [
    "rectdiag"
   ]
  },
  {
   "cell_type": "code",
   "execution_count": 32,
   "metadata": {},
   "outputs": [
    {
     "data": {
      "text/plain": [
       "(tensor([ 1,  4,  9, 16,  0]), tensor([1, 2, 3, 4]))"
      ]
     },
     "execution_count": 32,
     "metadata": {},
     "output_type": "execute_result"
    }
   ],
   "source": [
    "rectdiag.mv(torch.arange(4)+1), torch.arange(4) + 1"
   ]
  },
  {
   "cell_type": "code",
   "execution_count": 33,
   "metadata": {},
   "outputs": [],
   "source": [
    "rectdiag = torch.cat((diag, torch.zeros((4,1), dtype=torch.long)), dim=1)"
   ]
  },
  {
   "cell_type": "code",
   "execution_count": 34,
   "metadata": {},
   "outputs": [
    {
     "data": {
      "text/plain": [
       "(tensor([[1, 0, 0, 0, 0],\n",
       "         [0, 2, 0, 0, 0],\n",
       "         [0, 0, 3, 0, 0],\n",
       "         [0, 0, 0, 4, 0]]),\n",
       " tensor([1, 2, 3, 4, 5]))"
      ]
     },
     "execution_count": 34,
     "metadata": {},
     "output_type": "execute_result"
    }
   ],
   "source": [
    "rectdiag, torch.arange(5) + 1"
   ]
  },
  {
   "cell_type": "code",
   "execution_count": 35,
   "metadata": {},
   "outputs": [
    {
     "data": {
      "text/plain": [
       "tensor([ 1,  4,  9, 16])"
      ]
     },
     "execution_count": 35,
     "metadata": {},
     "output_type": "execute_result"
    }
   ],
   "source": [
    "rectdiag.mv(torch.arange(5)+1)"
   ]
  },
  {
   "cell_type": "markdown",
   "metadata": {},
   "source": [
    "### Symmetric matrices"
   ]
  },
  {
   "cell_type": "code",
   "execution_count": 36,
   "metadata": {},
   "outputs": [],
   "source": [
    "A = torch.diag(torch.arange(4) + 1)"
   ]
  },
  {
   "cell_type": "code",
   "execution_count": 37,
   "metadata": {},
   "outputs": [
    {
     "data": {
      "text/plain": [
       "tensor([[True, True, True, True],\n",
       "        [True, True, True, True],\n",
       "        [True, True, True, True],\n",
       "        [True, True, True, True]])"
      ]
     },
     "execution_count": 37,
     "metadata": {},
     "output_type": "execute_result"
    }
   ],
   "source": [
    "A == A.T"
   ]
  },
  {
   "cell_type": "markdown",
   "metadata": {},
   "source": [
    "### Unit Vector"
   ]
  },
  {
   "cell_type": "code",
   "execution_count": 38,
   "metadata": {},
   "outputs": [
    {
     "data": {
      "text/plain": [
       "(tensor(1.0000), tensor([0.1826, 0.3651, 0.5477, 0.7303]))"
      ]
     },
     "execution_count": 38,
     "metadata": {},
     "output_type": "execute_result"
    }
   ],
   "source": [
    "x = torch.arange(4, dtype=torch.float) + 1\n",
    "x_u = x/x.norm()\n",
    "x_u.norm(), x_u"
   ]
  },
  {
   "cell_type": "markdown",
   "metadata": {},
   "source": [
    "### Eigen descomposition"
   ]
  },
  {
   "cell_type": "code",
   "execution_count": 39,
   "metadata": {},
   "outputs": [],
   "source": [
    "%matplotlib inline\n",
    "import matplotlib.pyplot as plt"
   ]
  },
  {
   "cell_type": "code",
   "execution_count": 40,
   "metadata": {},
   "outputs": [],
   "source": [
    "matrix = torch.eye(2, dtype=torch.float)*3"
   ]
  },
  {
   "cell_type": "code",
   "execution_count": 41,
   "metadata": {},
   "outputs": [
    {
     "data": {
      "text/plain": [
       "torch.return_types.eig(\n",
       "eigenvalues=tensor([[3., 0.],\n",
       "        [3., 0.]]),\n",
       "eigenvectors=tensor([[1., 0.],\n",
       "        [0., 1.]]))"
      ]
     },
     "execution_count": 41,
     "metadata": {},
     "output_type": "execute_result"
    }
   ],
   "source": [
    "torch.eig(matrix, eigenvectors=True)"
   ]
  },
  {
   "cell_type": "code",
   "execution_count": 42,
   "metadata": {},
   "outputs": [
    {
     "data": {
      "text/plain": [
       "tensor([[1., 0.],\n",
       "        [0., 1.]])"
      ]
     },
     "execution_count": 42,
     "metadata": {},
     "output_type": "execute_result"
    }
   ],
   "source": [
    "eigen_matrix = torch.eig(matrix, eigenvectors=True).eigenvectors\n",
    "eigen_matrix"
   ]
  },
  {
   "cell_type": "code",
   "execution_count": 43,
   "metadata": {},
   "outputs": [
    {
     "data": {
      "text/plain": [
       "tensor([True, True])"
      ]
     },
     "execution_count": 43,
     "metadata": {},
     "output_type": "execute_result"
    }
   ],
   "source": [
    "matrix.mv(torch.tensor([1,0.0])) == 3*torch.tensor([1,0.0]) # Eigen vector of matrix"
   ]
  },
  {
   "cell_type": "code",
   "execution_count": 44,
   "metadata": {},
   "outputs": [
    {
     "data": {
      "image/png": "[encoded data removed]",
      "text/plain": [
       "<Figure size 432x288 with 1 Axes>"
      ]
     },
     "metadata": {
      "needs_background": "light"
     },
     "output_type": "display_data"
    }
   ],
   "source": [
    "plt.scatter(eigen_matrix[:,0], eigen_matrix[:,1])\n",
    "plt.show()"
   ]
  },
  {
   "cell_type": "code",
   "execution_count": 45,
   "metadata": {},
   "outputs": [
    {
     "data": {
      "image/png": "[encoded data removed]",
      "text/plain": [
       "<Figure size 432x288 with 1 Axes>"
      ]
     },
     "metadata": {
      "needs_background": "light"
     },
     "output_type": "display_data"
    }
   ],
   "source": [
    "plt.scatter(matrix.mv(eigen_matrix[:,0]), matrix.mv(eigen_matrix[:,1]))\n",
    "plt.show()"
   ]
  },
  {
   "cell_type": "code",
   "execution_count": 46,
   "metadata": {},
   "outputs": [
    {
     "data": {
      "text/plain": [
       "tensor([[True, True],\n",
       "        [True, True]])"
      ]
     },
     "execution_count": 46,
     "metadata": {},
     "output_type": "execute_result"
    }
   ],
   "source": [
    "eigen_matrix.mm(torch.diag(torch.tensor([3.0,3]))).mm(eigen_matrix.T) == matrix"
   ]
  },
  {
   "cell_type": "code",
   "execution_count": 47,
   "metadata": {},
   "outputs": [
    {
     "data": {
      "text/plain": [
       "torch.return_types.svd(\n",
       "U=tensor([[1., 0.],\n",
       "        [0., 1.]]),\n",
       "S=tensor([3., 3.]),\n",
       "V=tensor([[1., 0.],\n",
       "        [0., 1.]]))"
      ]
     },
     "execution_count": 47,
     "metadata": {},
     "output_type": "execute_result"
    }
   ],
   "source": [
    "torch.svd(matrix) # Eigenvalue decomposition < generalize singular value decomposition"
   ]
  },
  {
   "cell_type": "code",
   "execution_count": 48,
   "metadata": {},
   "outputs": [],
   "source": [
    "matrix = torch.arange(10, dtype=torch.float).view(2,-1)\n",
    "U, S, V = torch.svd(matrix)"
   ]
  },
  {
   "cell_type": "code",
   "execution_count": 49,
   "metadata": {},
   "outputs": [
    {
     "data": {
      "text/plain": [
       "(torch.Size([2, 2]), torch.Size([2, 2]), torch.Size([5, 2]))"
      ]
     },
     "execution_count": 49,
     "metadata": {},
     "output_type": "execute_result"
    }
   ],
   "source": [
    "U.shape, torch.diag(S).shape, V.shape"
   ]
  },
  {
   "cell_type": "markdown",
   "metadata": {},
   "source": [
    "## The moon penrose pseudo inverse"
   ]
  },
  {
   "cell_type": "markdown",
   "metadata": {},
   "source": [
    "$$A^{+} = \\lim_{\\alpha -> 0}(A^{T}A + \\alpha I)^{-1}A^{T}$$\n",
    "\n",
    "Algorithms that calculate the pseudo inverse does not use the previous definition, but the following formulae instead:\n",
    "\n",
    "Given the svd for a matrix $A$, $A = UDV^{T}$\n",
    "$$A^{+} = VD^{+}U^{T}$$"
   ]
  },
  {
   "cell_type": "code",
   "execution_count": 50,
   "metadata": {},
   "outputs": [],
   "source": [
    "A = (torch.arange(10, dtype=torch.float) + 1).reshape(5, 2)"
   ]
  },
  {
   "cell_type": "code",
   "execution_count": 51,
   "metadata": {},
   "outputs": [],
   "source": [
    "U, S, V = torch.svd(A) # using the sigular value descomposition"
   ]
  },
  {
   "cell_type": "code",
   "execution_count": 52,
   "metadata": {},
   "outputs": [],
   "source": [
    "D = torch.diag(S)"
   ]
  },
  {
   "cell_type": "code",
   "execution_count": 53,
   "metadata": {},
   "outputs": [],
   "source": [
    "def get_D_plus(D):\n",
    "    D_plus = (1/D).T\n",
    "    D_plus[D_plus == float('inf')] = 0\n",
    "    return D_plus"
   ]
  },
  {
   "cell_type": "code",
   "execution_count": 54,
   "metadata": {},
   "outputs": [],
   "source": [
    "D_plus = get_D_plus(D)"
   ]
  },
  {
   "cell_type": "code",
   "execution_count": 55,
   "metadata": {},
   "outputs": [],
   "source": [
    "A_plus = V.mm(D_plus).mm(U.T)"
   ]
  },
  {
   "cell_type": "code",
   "execution_count": 56,
   "metadata": {},
   "outputs": [
    {
     "data": {
      "text/plain": [
       "tensor([[-0.8000, -0.5000, -0.2000,  0.1000,  0.4000],\n",
       "        [ 0.7000,  0.4500,  0.2000, -0.0500, -0.3000]])"
      ]
     },
     "execution_count": 56,
     "metadata": {},
     "output_type": "execute_result"
    }
   ],
   "source": [
    "torch.pinverse(A)"
   ]
  },
  {
   "cell_type": "code",
   "execution_count": 57,
   "metadata": {},
   "outputs": [
    {
     "data": {
      "text/plain": [
       "tensor([[-0.8000, -0.5000, -0.2000,  0.1000,  0.4000],\n",
       "        [ 0.7000,  0.4500,  0.2000, -0.0500, -0.3000]])"
      ]
     },
     "execution_count": 57,
     "metadata": {},
     "output_type": "execute_result"
    }
   ],
   "source": [
    "A_plus"
   ]
  },
  {
   "cell_type": "markdown",
   "metadata": {},
   "source": [
    "## the trace operator\n",
    "\n",
    "the trace operators give the sum of all the diagonal entries of a matrix $A$:\n",
    "\n",
    "$$Tr(A) = \\sum_i A_{i,i}$$"
   ]
  },
  {
   "cell_type": "code",
   "execution_count": 58,
   "metadata": {},
   "outputs": [
    {
     "data": {
      "text/plain": [
       "(tensor(5.), tensor(5.))"
      ]
     },
     "execution_count": 58,
     "metadata": {},
     "output_type": "execute_result"
    }
   ],
   "source": [
    "torch.trace(A), torch.diag(A).sum()"
   ]
  },
  {
   "cell_type": "markdown",
   "metadata": {},
   "source": [
    "### Frobenious norm using trace operator"
   ]
  },
  {
   "cell_type": "code",
   "execution_count": 59,
   "metadata": {},
   "outputs": [
    {
     "data": {
      "text/plain": [
       "(tensor(19.6214), tensor(19.6214))"
      ]
     },
     "execution_count": 59,
     "metadata": {},
     "output_type": "execute_result"
    }
   ],
   "source": [
    "torch.trace(A.mm(A.T)).sqrt(), A.norm(p='fro')"
   ]
  },
  {
   "cell_type": "markdown",
   "metadata": {},
   "source": [
    "## The determinant\n",
    "\n",
    "The determinant of matrix denoted $det(A)$ is a function that mapping matrices to real scalars. The determinant is equal to the product of all the eigenvalues of the matrix. The absolute value of the determinant can be thought of as a measure of how much multiplication byt the matrix expands or contracts the space. If the determinant is zero, the space is contracted completely along at least one dimension, causing to lose all its volumne. If the determinant is 1 then the transformation preserve its volume."
   ]
  },
  {
   "cell_type": "code",
   "execution_count": 60,
   "metadata": {},
   "outputs": [
    {
     "data": {
      "text/plain": [
       "tensor(-2.0000)"
      ]
     },
     "execution_count": 60,
     "metadata": {},
     "output_type": "execute_result"
    }
   ],
   "source": [
    "torch.det((torch.arange(4, dtype=torch.float) + 1).view(2,2))"
   ]
  },
  {
   "cell_type": "markdown",
   "metadata": {},
   "source": [
    "## Principal Component Analysis Algorithm\n"
   ]
  },
  {
   "cell_type": "code",
   "execution_count": 61,
   "metadata": {
    "scrolled": true
   },
   "outputs": [
    {
     "name": "stdout",
     "output_type": "stream",
     "text": [
      "it: 0 loss: 52.191322\n",
      "it: 100 loss: 7.090342\n",
      "it: 200 loss: 1.779589\n",
      "it: 300 loss: 1.672842\n",
      "it: 400 loss: 1.582076\n",
      "it: 500 loss: 1.500197\n",
      "it: 600 loss: 1.426459\n",
      "it: 700 loss: 1.360116\n",
      "it: 800 loss: 1.300429\n",
      "it: 900 loss: 1.246681\n",
      "it: 1000 loss: 1.198179\n",
      "it: 1100 loss: 1.154270\n",
      "it: 1200 loss: 1.114342\n",
      "it: 1300 loss: 1.077834\n",
      "it: 1400 loss: 1.044237\n",
      "it: 1500 loss: 1.013093\n",
      "it: 1600 loss: 0.984000\n",
      "it: 1700 loss: 0.956599\n",
      "it: 1800 loss: 0.930582\n",
      "it: 1900 loss: 0.905681\n",
      "it: 2000 loss: 0.881666\n",
      "it: 2100 loss: 0.858339\n",
      "it: 2200 loss: 0.835530\n",
      "it: 2300 loss: 0.813097\n",
      "it: 2400 loss: 0.790920\n",
      "it: 2500 loss: 0.768897\n",
      "it: 2600 loss: 0.746942\n",
      "it: 2700 loss: 0.724982\n",
      "it: 2800 loss: 0.702961\n",
      "it: 2900 loss: 0.680829\n",
      "it: 3000 loss: 0.658546\n",
      "it: 3100 loss: 0.636082\n",
      "it: 3200 loss: 0.613412\n",
      "it: 3300 loss: 0.590518\n",
      "it: 3400 loss: 0.567385\n",
      "it: 3500 loss: 0.544006\n",
      "it: 3600 loss: 0.520375\n",
      "it: 3700 loss: 0.496492\n",
      "it: 3800 loss: 0.472358\n",
      "it: 3900 loss: 0.447977\n",
      "it: 4000 loss: 0.423358\n",
      "it: 4100 loss: 0.398507\n",
      "it: 4200 loss: 0.373437\n",
      "it: 4300 loss: 0.348158\n",
      "it: 4400 loss: 0.322684\n",
      "it: 4500 loss: 0.297030\n",
      "it: 4600 loss: 0.271208\n",
      "it: 4700 loss: 0.245234\n",
      "it: 4800 loss: 0.219122\n",
      "it: 4900 loss: 0.192889\n",
      "it: 5000 loss: 0.202314\n",
      "it: 5100 loss: 0.202690\n",
      "it: 5200 loss: 0.203069\n",
      "it: 5300 loss: 0.203535\n",
      "it: 5400 loss: 0.204136\n",
      "it: 5500 loss: 0.204910\n",
      "it: 5600 loss: 0.205916\n",
      "it: 5700 loss: 0.207220\n",
      "it: 5800 loss: 0.208905\n",
      "it: 5900 loss: 0.211076\n",
      "it: 6000 loss: 0.213857\n",
      "it: 6100 loss: 0.217406\n",
      "it: 6200 loss: 0.221899\n",
      "it: 6300 loss: 0.227521\n",
      "it: 6400 loss: 0.234457\n",
      "it: 6500 loss: 0.242866\n",
      "it: 6600 loss: 0.252822\n",
      "it: 6700 loss: 0.264312\n",
      "it: 6800 loss: 0.277189\n",
      "it: 6900 loss: 0.291152\n",
      "it: 7000 loss: 0.305857\n",
      "it: 7100 loss: 0.320925\n",
      "it: 7200 loss: 0.336019\n",
      "it: 7300 loss: 0.350913\n",
      "it: 7400 loss: 0.335898\n",
      "it: 7500 loss: 0.346602\n",
      "it: 7600 loss: 0.338558\n",
      "it: 7700 loss: 0.337883\n",
      "it: 7800 loss: 0.350628\n",
      "it: 7900 loss: 0.344831\n",
      "it: 8000 loss: 0.328102\n",
      "it: 8100 loss: 0.326503\n",
      "it: 8200 loss: 0.309079\n",
      "it: 8300 loss: 0.351163\n",
      "it: 8400 loss: 0.354726\n",
      "it: 8500 loss: 0.325915\n",
      "it: 8600 loss: 0.365863\n",
      "it: 8700 loss: 0.302829\n",
      "it: 8800 loss: 0.334844\n",
      "it: 8900 loss: 0.369198\n",
      "it: 9000 loss: 0.310371\n",
      "it: 9100 loss: 0.343188\n",
      "it: 9200 loss: 0.373396\n",
      "it: 9300 loss: 0.300371\n",
      "it: 9400 loss: 0.338806\n",
      "it: 9500 loss: 0.378990\n",
      "it: 9600 loss: 0.310437\n",
      "it: 9700 loss: 0.346304\n",
      "it: 9800 loss: 0.317638\n",
      "it: 9900 loss: 0.324517\n"
     ]
    }
   ],
   "source": [
    "lr = 0.0001\n",
    "X = torch.arange(15, dtype=torch.float).view(-1, 3) \n",
    "m, n = X.shape\n",
    "l = 2\n",
    "\n",
    "# Matrix code, reconstruction and decode\n",
    "D = torch.randn((n, l), requires_grad=True)\n",
    "loss_min = float('inf')\n",
    "\n",
    "losses = []\n",
    "for it in range(10000):\n",
    "    # Solve this \n",
    "    diff = X - (X.mm(D)).mm(D.T)\n",
    "    loss = torch.norm(diff, p='fro')\n",
    "    loss.backward()\n",
    "    if it%100 == 0:\n",
    "        print(\"it: %i loss: %f\" %(it, loss.item()))\n",
    "    # Append loss\n",
    "    losses.append(loss.item())\n",
    "    with torch.no_grad():\n",
    "        if loss < loss_min:\n",
    "            loss_min = loss.item()\n",
    "            best_D = D.clone()\n",
    "        D -= lr*D.grad\n",
    "        D.grad.zero_()\n",
    "D = best_D"
   ]
  },
  {
   "cell_type": "code",
   "execution_count": 62,
   "metadata": {},
   "outputs": [
    {
     "data": {
      "image/png": "[encoded data removed]",
      "text/plain": [
       "<Figure size 432x288 with 1 Axes>"
      ]
     },
     "metadata": {
      "needs_background": "light"
     },
     "output_type": "display_data"
    }
   ],
   "source": [
    "plt.plot(losses)\n",
    "plt.title('PCA algorithm convergence')\n",
    "plt.ylabel('Loss')\n",
    "plt.xlabel('Number of iteration')\n",
    "plt.show()"
   ]
  },
  {
   "cell_type": "markdown",
   "metadata": {},
   "source": [
    "### This matrix is our decode and encode matrix"
   ]
  },
  {
   "cell_type": "code",
   "execution_count": 63,
   "metadata": {},
   "outputs": [
    {
     "name": "stdout",
     "output_type": "stream",
     "text": [
      "X_code:\n",
      " tensor([[ -2.2341,  -0.1006],\n",
      "        [ -6.1086,  -3.5653],\n",
      "        [ -9.9831,  -7.0300],\n",
      "        [-13.8577, -10.4948],\n",
      "        [-17.7322, -13.9595]])\n",
      "Original_X:\n",
      " tensor([[ 0.,  1.,  2.],\n",
      "        [ 3.,  4.,  5.],\n",
      "        [ 6.,  7.,  8.],\n",
      "        [ 9., 10., 11.],\n",
      "        [12., 13., 14.]])\n",
      "X_recons:\n",
      " tensor([[6.7792e-04, 1.0005e+00, 2.0003e+00],\n",
      "        [3.0029e+00, 4.0023e+00, 5.0017e+00],\n",
      "        [6.0052e+00, 7.0041e+00, 8.0031e+00],\n",
      "        [9.0075e+00, 1.0006e+01, 1.1004e+01],\n",
      "        [1.2010e+01, 1.3008e+01, 1.4006e+01]])\n"
     ]
    }
   ],
   "source": [
    "X_code = X.mm(D)\n",
    "print(\"X_code:\\n\", X_code) # X code to R^2 \n",
    "print(\"Original_X:\\n\", X) # Original X\n",
    "X_recons = (X.mm(D)).mm(D.T)\n",
    "print(\"X_recons:\\n\",X_recons)"
   ]
  },
  {
   "cell_type": "markdown",
   "metadata": {},
   "source": [
    "### PCA using singular value decomposition\n",
    "\n",
    "We can show that the best value of D are the eigenvalue decomposition for $X^{T}X$, let's see an example of this without using gradient descent"
   ]
  },
  {
   "cell_type": "code",
   "execution_count": 64,
   "metadata": {},
   "outputs": [],
   "source": [
    "U, S, _ = torch.svd(X.T.mm(X))"
   ]
  },
  {
   "cell_type": "code",
   "execution_count": 65,
   "metadata": {},
   "outputs": [
    {
     "data": {
      "text/plain": [
       "(torch.Size([3, 3]), torch.Size([3]))"
      ]
     },
     "execution_count": 65,
     "metadata": {},
     "output_type": "execute_result"
    }
   ],
   "source": [
    "U.shape, S.shape"
   ]
  },
  {
   "cell_type": "code",
   "execution_count": 66,
   "metadata": {},
   "outputs": [
    {
     "data": {
      "text/plain": [
       "tensor([[269.9999, 299.9999, 329.9999],\n",
       "        [299.9999, 335.0000, 370.0000],\n",
       "        [329.9999, 370.0000, 410.0000]])"
      ]
     },
     "execution_count": 66,
     "metadata": {},
     "output_type": "execute_result"
    }
   ],
   "source": [
    "U.mm(torch.diag(S)).mm(U.T)"
   ]
  },
  {
   "cell_type": "code",
   "execution_count": 67,
   "metadata": {},
   "outputs": [
    {
     "data": {
      "text/plain": [
       "tensor([[270., 300., 330.],\n",
       "        [300., 335., 370.],\n",
       "        [330., 370., 410.]])"
      ]
     },
     "execution_count": 67,
     "metadata": {},
     "output_type": "execute_result"
    }
   ],
   "source": [
    "X.T.mm(X)"
   ]
  },
  {
   "cell_type": "code",
   "execution_count": 71,
   "metadata": {},
   "outputs": [
    {
     "data": {
      "text/plain": [
       "tensor([1.0123e+03, 2.6671e+00, 9.1518e-11])"
      ]
     },
     "execution_count": 71,
     "metadata": {},
     "output_type": "execute_result"
    }
   ],
   "source": [
    "torch.diag(U.T.mm(X.T.mm(X)).mm(U))"
   ]
  },
  {
   "cell_type": "code",
   "execution_count": 72,
   "metadata": {},
   "outputs": [
    {
     "data": {
      "text/plain": [
       "tensor([1.0123e+03, 2.6671e+00, 7.5923e-07])"
      ]
     },
     "execution_count": 72,
     "metadata": {},
     "output_type": "execute_result"
    }
   ],
   "source": [
    "S"
   ]
  },
  {
   "cell_type": "code",
   "execution_count": 73,
   "metadata": {},
   "outputs": [
    {
     "data": {
      "text/plain": [
       "tensor([[ 0.,  1.,  2.],\n",
       "        [ 3.,  4.,  5.],\n",
       "        [ 6.,  7.,  8.],\n",
       "        [ 9., 10., 11.],\n",
       "        [12., 13., 14.]])"
      ]
     },
     "execution_count": 73,
     "metadata": {},
     "output_type": "execute_result"
    }
   ],
   "source": [
    "X"
   ]
  },
  {
   "cell_type": "code",
   "execution_count": 74,
   "metadata": {},
   "outputs": [
    {
     "data": {
      "text/plain": [
       "tensor([[1012.3326]])"
      ]
     },
     "execution_count": 74,
     "metadata": {},
     "output_type": "execute_result"
    }
   ],
   "source": [
    "U[:,:1].T.mm(X.T).mm(X).mm(U[:,:1])"
   ]
  },
  {
   "cell_type": "code",
   "execution_count": 75,
   "metadata": {},
   "outputs": [
    {
     "name": "stdout",
     "output_type": "stream",
     "text": [
      "X_code:\n",
      " tensor([[ -1.8463,  -1.2615],\n",
      "        [ -7.0235,  -0.8186],\n",
      "        [-12.2008,  -0.3758],\n",
      "        [-17.3780,   0.0670],\n",
      "        [-22.5553,   0.5098]])\n",
      "Original_X:\n",
      " tensor([[ 0.,  1.,  2.],\n",
      "        [ 3.,  4.,  5.],\n",
      "        [ 6.,  7.,  8.],\n",
      "        [ 9., 10., 11.],\n",
      "        [12., 13., 14.]])\n",
      "X_recons:\n",
      " tensor([[-3.6359e-06,  1.0000e+00,  2.0000e+00],\n",
      "        [ 3.0000e+00,  4.0000e+00,  5.0000e+00],\n",
      "        [ 6.0000e+00,  7.0000e+00,  8.0000e+00],\n",
      "        [ 9.0000e+00,  1.0000e+01,  1.1000e+01],\n",
      "        [ 1.2000e+01,  1.3000e+01,  1.4000e+01]])\n"
     ]
    }
   ],
   "source": [
    "X_code = X.mm(U[:,:2])\n",
    "print(\"X_code:\\n\", X_code) # X code to R^2 \n",
    "print(\"Original_X:\\n\", X) # Original X\n",
    "X_recons = X_code.mm(U[:,:2].T)\n",
    "print(\"X_recons:\\n\",X_recons)"
   ]
  }
 ],
 "metadata": {
  "kernelspec": {
   "display_name": "Python 3",
   "language": "python",
   "name": "python3"
  },
  "language_info": {
   "codemirror_mode": {
    "name": "ipython",
    "version": 3
   },
   "file_extension": ".py",
   "mimetype": "text/x-python",
   "name": "python",
   "nbconvert_exporter": "python",
   "pygments_lexer": "ipython3",
   "version": "3.7.7"
  },
  "toc-autonumbering": true,
  "toc-showmarkdowntxt": false
 },
 "nbformat": 4,
 "nbformat_minor": 4
}
